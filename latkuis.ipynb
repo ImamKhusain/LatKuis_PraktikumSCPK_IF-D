{
 "cells": [
  {
   "cell_type": "markdown",
   "metadata": {},
   "source": [
    "## Menampilkan isi dataset "
   ]
  },
  {
   "cell_type": "code",
   "execution_count": 2,
   "metadata": {},
   "outputs": [
    {
     "name": "stdout",
     "output_type": "stream",
     "text": [
      "       Activity Period     Operating Airline Operating Airline IATA Code  \\\n",
      "0               200507          ATA Airlines                          TZ   \n",
      "1               200507          ATA Airlines                          TZ   \n",
      "2               200507          ATA Airlines                          TZ   \n",
      "3               200507            Air Canada                          AC   \n",
      "4               200507            Air Canada                          AC   \n",
      "...                ...                   ...                         ...   \n",
      "50725           202212  Vietnam Airlines JSC                          VN   \n",
      "50726           202212       Virgin Atlantic                          VS   \n",
      "50727           202212       Virgin Atlantic                          VS   \n",
      "50728           202212      WestJet Airlines                          WS   \n",
      "50729           202212      WestJet Airlines                          WS   \n",
      "\n",
      "          Published Airline Published Airline IATA Code    GEO Summary  \\\n",
      "0              ATA Airlines                          TZ       Domestic   \n",
      "1              ATA Airlines                          TZ       Domestic   \n",
      "2              ATA Airlines                          TZ       Domestic   \n",
      "3                Air Canada                          AC  International   \n",
      "4                Air Canada                          AC  International   \n",
      "...                     ...                         ...            ...   \n",
      "50725  Vietnam Airlines JSC                          VN  International   \n",
      "50726       Virgin Atlantic                          VS  International   \n",
      "50727       Virgin Atlantic                          VS  International   \n",
      "50728      WestJet Airlines                          WS  International   \n",
      "50729      WestJet Airlines                          WS  International   \n",
      "\n",
      "      GEO Region Activity Type Code Price Category Code       Terminal  \\\n",
      "0             US           Deplaned            Low Fare     Terminal 1   \n",
      "1             US           Enplaned            Low Fare     Terminal 1   \n",
      "2             US     Thru / Transit            Low Fare     Terminal 1   \n",
      "3         Canada           Deplaned               Other     Terminal 1   \n",
      "4         Canada           Enplaned               Other     Terminal 1   \n",
      "...          ...                ...                 ...            ...   \n",
      "50725       Asia           Enplaned               Other  International   \n",
      "50726     Europe           Deplaned               Other  International   \n",
      "50727     Europe           Enplaned               Other  International   \n",
      "50728     Canada           Deplaned               Other  International   \n",
      "50729     Canada           Enplaned               Other  International   \n",
      "\n",
      "      Boarding Area  Passenger Count  \n",
      "0                 B            27271  \n",
      "1                 B            29131  \n",
      "2                 B             5415  \n",
      "3                 B            35156  \n",
      "4                 B            34090  \n",
      "...             ...              ...  \n",
      "50725             A             3197  \n",
      "50726             A             5836  \n",
      "50727             A             6650  \n",
      "50728             A             1679  \n",
      "50729             A             1857  \n",
      "\n",
      "[50730 rows x 12 columns]\n"
     ]
    }
   ],
   "source": [
    "import pandas as pd \n",
    "\n",
    "data = pd.read_csv(\"Air_Traffic_Passenger_Statistics.csv\")\n",
    "print(data)"
   ]
  },
  {
   "cell_type": "markdown",
   "metadata": {},
   "source": [
    "## Mengecek apakah ada data yang hilang dan perbaiki nilai yang hilang dengan metode yang sesuai, misalnya dengan menghapus baris yang bernilai null \n"
   ]
  },
  {
   "cell_type": "code",
   "execution_count": 3,
   "metadata": {},
   "outputs": [
    {
     "name": "stdout",
     "output_type": "stream",
     "text": [
      "\n",
      "Deteksi Nilai NULL:\n",
      "Activity Period                  0\n",
      "Operating Airline                0\n",
      "Operating Airline IATA Code    303\n",
      "Published Airline                0\n",
      "Published Airline IATA Code    303\n",
      "GEO Summary                      0\n",
      "GEO Region                       0\n",
      "Activity Type Code               0\n",
      "Price Category Code              0\n",
      "Terminal                         0\n",
      "Boarding Area                    0\n",
      "Passenger Count                  0\n",
      "dtype: int64\n"
     ]
    }
   ],
   "source": [
    "data_null = data.isnull()\n",
    "print(\"\\nDeteksi Nilai NULL:\")\n",
    "print(data_null.sum())"
   ]
  },
  {
   "cell_type": "code",
   "execution_count": 9,
   "metadata": {},
   "outputs": [
    {
     "data": {
      "text/plain": [
       "Activity Period                0\n",
       "Operating Airline              0\n",
       "Operating Airline IATA Code    0\n",
       "Published Airline              0\n",
       "Published Airline IATA Code    0\n",
       "GEO Summary                    0\n",
       "GEO Region                     0\n",
       "Activity Type Code             0\n",
       "Price Category Code            0\n",
       "Terminal                       0\n",
       "Boarding Area                  0\n",
       "Passenger Count                0\n",
       "dtype: int64"
      ]
     },
     "execution_count": 9,
     "metadata": {},
     "output_type": "execute_result"
    }
   ],
   "source": [
    "# Menghapus baris yang memiliki nilai NULL\n",
    "data_cleaned = data.dropna()\n",
    "# Mengecek kembali apakah masih ada nilai NULL\n",
    "data_cleaned.isnull().sum()\n"
   ]
  },
  {
   "cell_type": "markdown",
   "metadata": {},
   "source": [
    "## Mengecek apakah ada data yang terduplikasi atau tidak, jika ada hapus data yang terduplikat "
   ]
  },
  {
   "cell_type": "code",
   "execution_count": 10,
   "metadata": {},
   "outputs": [
    {
     "name": "stdout",
     "output_type": "stream",
     "text": [
      "Jumlah data duplikat: 24925\n",
      "Data duplikat berhasil dihapus.\n",
      "Jumlah data setelah penghapusan duplikat: 25805\n"
     ]
    }
   ],
   "source": [
    "# Mengecek jumlah data duplikat\n",
    "duplicate_count = data.duplicated().sum()\n",
    "print(f\"Jumlah data duplikat: {duplicate_count}\")\n",
    "\n",
    "# Menghapus data duplikat jika ada\n",
    "if duplicate_count > 0:\n",
    "    data_cleaned = data.drop_duplicates()\n",
    "    print(\"Data duplikat berhasil dihapus.\")\n",
    "else:\n",
    "    data_cleaned = data\n",
    "    print(\"Tidak ada data duplikat.\")\n",
    "\n",
    "# Menampilkan jumlah data setelah penghapusan\n",
    "print(f\"Jumlah data setelah penghapusan duplikat: {data_cleaned.shape[0]}\")\n"
   ]
  },
  {
   "cell_type": "markdown",
   "metadata": {},
   "source": [
    "## Mengubah tipe data kolom jika diperlukan"
   ]
  },
  {
   "cell_type": "code",
   "execution_count": 11,
   "metadata": {},
   "outputs": [
    {
     "name": "stdout",
     "output_type": "stream",
     "text": [
      "<class 'pandas.core.frame.DataFrame'>\n",
      "Index: 25805 entries, 0 to 50729\n",
      "Data columns (total 12 columns):\n",
      " #   Column                       Non-Null Count  Dtype \n",
      "---  ------                       --------------  ----- \n",
      " 0   Activity Period              25805 non-null  int64 \n",
      " 1   Operating Airline            25805 non-null  object\n",
      " 2   Operating Airline IATA Code  25632 non-null  object\n",
      " 3   Published Airline            25805 non-null  object\n",
      " 4   Published Airline IATA Code  25632 non-null  object\n",
      " 5   GEO Summary                  25805 non-null  object\n",
      " 6   GEO Region                   25805 non-null  object\n",
      " 7   Activity Type Code           25805 non-null  object\n",
      " 8   Price Category Code          25805 non-null  object\n",
      " 9   Terminal                     25805 non-null  object\n",
      " 10  Boarding Area                25805 non-null  object\n",
      " 11  Passenger Count              25805 non-null  int64 \n",
      "dtypes: int64(2), object(10)\n",
      "memory usage: 2.6+ MB\n",
      "None\n",
      "<class 'pandas.core.frame.DataFrame'>\n",
      "Index: 25805 entries, 0 to 50729\n",
      "Data columns (total 12 columns):\n",
      " #   Column                       Non-Null Count  Dtype \n",
      "---  ------                       --------------  ----- \n",
      " 0   Activity Period              25805 non-null  int64 \n",
      " 1   Operating Airline            25805 non-null  object\n",
      " 2   Operating Airline IATA Code  25632 non-null  string\n",
      " 3   Published Airline            25805 non-null  object\n",
      " 4   Published Airline IATA Code  25632 non-null  string\n",
      " 5   GEO Summary                  25805 non-null  object\n",
      " 6   GEO Region                   25805 non-null  object\n",
      " 7   Activity Type Code           25805 non-null  object\n",
      " 8   Price Category Code          25805 non-null  object\n",
      " 9   Terminal                     25805 non-null  object\n",
      " 10  Boarding Area                25805 non-null  object\n",
      " 11  Passenger Count              25805 non-null  int64 \n",
      "dtypes: int64(2), object(8), string(2)\n",
      "memory usage: 2.6+ MB\n",
      "None\n"
     ]
    },
    {
     "name": "stderr",
     "output_type": "stream",
     "text": [
      "C:\\Users\\ASUS\\AppData\\Local\\Temp\\ipykernel_27720\\47627239.py:5: SettingWithCopyWarning: \n",
      "A value is trying to be set on a copy of a slice from a DataFrame.\n",
      "Try using .loc[row_indexer,col_indexer] = value instead\n",
      "\n",
      "See the caveats in the documentation: https://pandas.pydata.org/pandas-docs/stable/user_guide/indexing.html#returning-a-view-versus-a-copy\n",
      "  data_cleaned['Operating Airline IATA Code'] = data_cleaned['Operating Airline IATA Code'].astype('string')\n",
      "C:\\Users\\ASUS\\AppData\\Local\\Temp\\ipykernel_27720\\47627239.py:6: SettingWithCopyWarning: \n",
      "A value is trying to be set on a copy of a slice from a DataFrame.\n",
      "Try using .loc[row_indexer,col_indexer] = value instead\n",
      "\n",
      "See the caveats in the documentation: https://pandas.pydata.org/pandas-docs/stable/user_guide/indexing.html#returning-a-view-versus-a-copy\n",
      "  data_cleaned['Published Airline IATA Code'] = data_cleaned['Published Airline IATA Code'].astype('string')\n"
     ]
    }
   ],
   "source": [
    "# Mengecek tipe data setiap kolom\n",
    "print(data_cleaned.info())\n",
    "\n",
    "# Contoh konversi tipe data kolom yang diperlukan\n",
    "data_cleaned['Operating Airline IATA Code'] = data_cleaned['Operating Airline IATA Code'].astype('string')\n",
    "data_cleaned['Published Airline IATA Code'] = data_cleaned['Published Airline IATA Code'].astype('string')\n",
    "\n",
    "# Cek kembali tipe data setelah konversi\n",
    "print(data_cleaned.info())\n"
   ]
  },
  {
   "cell_type": "markdown",
   "metadata": {},
   "source": [
    "## Menyimpan dataset yang telah diproses ke dalam file csv yang baru"
   ]
  },
  {
   "cell_type": "code",
   "execution_count": 12,
   "metadata": {},
   "outputs": [
    {
     "data": {
      "text/plain": [
       "(25805, 12)"
      ]
     },
     "execution_count": 12,
     "metadata": {},
     "output_type": "execute_result"
    }
   ],
   "source": [
    "# Menghapus data duplikat\n",
    "data_cleaned = data_cleaned.drop_duplicates()\n",
    "\n",
    "# Mengecek kembali jumlah data setelah penghapusan duplikat\n",
    "data_cleaned.shape"
   ]
  },
  {
   "cell_type": "markdown",
   "metadata": {},
   "source": [
    "## Tampilkan data sebelum dilakukan data preprocessing dan setelah dilakukan preprocessing "
   ]
  },
  {
   "cell_type": "code",
   "execution_count": 13,
   "metadata": {},
   "outputs": [
    {
     "name": "stdout",
     "output_type": "stream",
     "text": [
      "Data Sebelum Preprocessing:\n",
      "   Activity Period Operating Airline Operating Airline IATA Code  \\\n",
      "0           200507      ATA Airlines                          TZ   \n",
      "1           200507      ATA Airlines                          TZ   \n",
      "2           200507      ATA Airlines                          TZ   \n",
      "3           200507        Air Canada                          AC   \n",
      "4           200507        Air Canada                          AC   \n",
      "\n",
      "  Published Airline Published Airline IATA Code    GEO Summary GEO Region  \\\n",
      "0      ATA Airlines                          TZ       Domestic         US   \n",
      "1      ATA Airlines                          TZ       Domestic         US   \n",
      "2      ATA Airlines                          TZ       Domestic         US   \n",
      "3        Air Canada                          AC  International     Canada   \n",
      "4        Air Canada                          AC  International     Canada   \n",
      "\n",
      "  Activity Type Code Price Category Code    Terminal Boarding Area  \\\n",
      "0           Deplaned            Low Fare  Terminal 1             B   \n",
      "1           Enplaned            Low Fare  Terminal 1             B   \n",
      "2     Thru / Transit            Low Fare  Terminal 1             B   \n",
      "3           Deplaned               Other  Terminal 1             B   \n",
      "4           Enplaned               Other  Terminal 1             B   \n",
      "\n",
      "   Passenger Count  \n",
      "0            27271  \n",
      "1            29131  \n",
      "2             5415  \n",
      "3            35156  \n",
      "4            34090  \n",
      "\n",
      "Data Setelah Preprocessing:\n",
      "   Activity Period Operating Airline Operating Airline IATA Code  \\\n",
      "0           200507      ATA Airlines                          TZ   \n",
      "1           200507      ATA Airlines                          TZ   \n",
      "2           200507      ATA Airlines                          TZ   \n",
      "3           200507        Air Canada                          AC   \n",
      "4           200507        Air Canada                          AC   \n",
      "\n",
      "  Published Airline Published Airline IATA Code    GEO Summary GEO Region  \\\n",
      "0      ATA Airlines                          TZ       Domestic         US   \n",
      "1      ATA Airlines                          TZ       Domestic         US   \n",
      "2      ATA Airlines                          TZ       Domestic         US   \n",
      "3        Air Canada                          AC  International     Canada   \n",
      "4        Air Canada                          AC  International     Canada   \n",
      "\n",
      "  Activity Type Code Price Category Code    Terminal Boarding Area  \\\n",
      "0           Deplaned            Low Fare  Terminal 1             B   \n",
      "1           Enplaned            Low Fare  Terminal 1             B   \n",
      "2     Thru / Transit            Low Fare  Terminal 1             B   \n",
      "3           Deplaned               Other  Terminal 1             B   \n",
      "4           Enplaned               Other  Terminal 1             B   \n",
      "\n",
      "   Passenger Count  \n",
      "0            27271  \n",
      "1            29131  \n",
      "2             5415  \n",
      "3            35156  \n",
      "4            34090  \n"
     ]
    }
   ],
   "source": [
    "# Menampilkan 5 data pertama sebelum preprocessing\n",
    "print(\"Data Sebelum Preprocessing:\")\n",
    "print(data.head())\n",
    "\n",
    "# Menampilkan 5 data pertama setelah preprocessing\n",
    "print(\"\\nData Setelah Preprocessing:\")\n",
    "print(data_cleaned.head())"
   ]
  }
 ],
 "metadata": {
  "kernelspec": {
   "display_name": "base",
   "language": "python",
   "name": "python3"
  },
  "language_info": {
   "codemirror_mode": {
    "name": "ipython",
    "version": 3
   },
   "file_extension": ".py",
   "mimetype": "text/x-python",
   "name": "python",
   "nbconvert_exporter": "python",
   "pygments_lexer": "ipython3",
   "version": "3.11.5"
  }
 },
 "nbformat": 4,
 "nbformat_minor": 2
}
